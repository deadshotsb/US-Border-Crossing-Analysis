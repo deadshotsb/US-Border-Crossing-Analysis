{
 "cells": [
  {
   "cell_type": "markdown",
   "metadata": {},
   "source": [
    "# US-Border-Crossing-Data-Analysis #\n",
    "\n",
    "This project is in reference to https://www.kaggle.com/divyansh22/us-border-crossing-data\n",
    "\n",
    "<img src=\"https://www.theglobeandmail.com/resizer/xI5H0RpvVb8y6HaRPGA4zNg_YKs=/3097x0/filters:quality(80)/cloudfront-us-east-1.images.arcpublishing.com/tgam/BSU735JBTZLXXHH46JGSLBAUZ4.JPG\" width=80%>\n",
    "\n",
    "\n",
    "The data file consists of the following:-\n",
    "\n",
    "    1. Port Name:- Name of the port from which the border is crossed.\n",
    "    2. State:- State\n",
    "    3. Port Code:- Unique port code\n",
    "    4. Border:- Border(US-Canada or US-Mexico)\n",
    "    5. Date:- Date of crossing the border\n",
    "    6. Measure:- Mode of transportation.\n",
    "    7. Value:- Counts of people crossing\n",
    "\n",
    "The libraries used in the project are:-\n",
    "\n",
    "    1. numpy\n",
    "    2. pandas\n",
    "    3. matplotlib\n",
    "    4. sklearn\n",
    "    5. os"
   ]
  },
  {
   "cell_type": "code",
   "execution_count": 1,
   "metadata": {},
   "outputs": [
    {
     "data": {
      "text/html": [
       "<div>\n",
       "<style scoped>\n",
       "    .dataframe tbody tr th:only-of-type {\n",
       "        vertical-align: middle;\n",
       "    }\n",
       "\n",
       "    .dataframe tbody tr th {\n",
       "        vertical-align: top;\n",
       "    }\n",
       "\n",
       "    .dataframe thead th {\n",
       "        text-align: right;\n",
       "    }\n",
       "</style>\n",
       "<table border=\"1\" class=\"dataframe\">\n",
       "  <thead>\n",
       "    <tr style=\"text-align: right;\">\n",
       "      <th></th>\n",
       "      <th>Port Name</th>\n",
       "      <th>State</th>\n",
       "      <th>Port Code</th>\n",
       "      <th>Border</th>\n",
       "      <th>Date</th>\n",
       "      <th>Measure</th>\n",
       "      <th>Value</th>\n",
       "    </tr>\n",
       "  </thead>\n",
       "  <tbody>\n",
       "    <tr>\n",
       "      <th>0</th>\n",
       "      <td>Alcan</td>\n",
       "      <td>AK</td>\n",
       "      <td>3104</td>\n",
       "      <td>US-Canada Border</td>\n",
       "      <td>02-01-2020</td>\n",
       "      <td>Personal Vehicle Passengers</td>\n",
       "      <td>1414</td>\n",
       "    </tr>\n",
       "    <tr>\n",
       "      <th>1</th>\n",
       "      <td>Alcan</td>\n",
       "      <td>AK</td>\n",
       "      <td>3104</td>\n",
       "      <td>US-Canada Border</td>\n",
       "      <td>03-01-2020</td>\n",
       "      <td>Personal Vehicles</td>\n",
       "      <td>763</td>\n",
       "    </tr>\n",
       "    <tr>\n",
       "      <th>2</th>\n",
       "      <td>Alcan</td>\n",
       "      <td>AK</td>\n",
       "      <td>3104</td>\n",
       "      <td>US-Canada Border</td>\n",
       "      <td>04-01-2020</td>\n",
       "      <td>Truck Containers Empty</td>\n",
       "      <td>412</td>\n",
       "    </tr>\n",
       "    <tr>\n",
       "      <th>3</th>\n",
       "      <td>Alcan</td>\n",
       "      <td>AK</td>\n",
       "      <td>3104</td>\n",
       "      <td>US-Canada Border</td>\n",
       "      <td>05-01-2020</td>\n",
       "      <td>Truck Containers Full</td>\n",
       "      <td>122</td>\n",
       "    </tr>\n",
       "    <tr>\n",
       "      <th>4</th>\n",
       "      <td>Alcan</td>\n",
       "      <td>AK</td>\n",
       "      <td>3104</td>\n",
       "      <td>US-Canada Border</td>\n",
       "      <td>06-01-2020</td>\n",
       "      <td>Trucks</td>\n",
       "      <td>545</td>\n",
       "    </tr>\n",
       "  </tbody>\n",
       "</table>\n",
       "</div>"
      ],
      "text/plain": [
       "  Port Name State  Port Code            Border        Date  \\\n",
       "0     Alcan    AK       3104  US-Canada Border  02-01-2020   \n",
       "1     Alcan    AK       3104  US-Canada Border  03-01-2020   \n",
       "2     Alcan    AK       3104  US-Canada Border  04-01-2020   \n",
       "3     Alcan    AK       3104  US-Canada Border  05-01-2020   \n",
       "4     Alcan    AK       3104  US-Canada Border  06-01-2020   \n",
       "\n",
       "                       Measure  Value  \n",
       "0  Personal Vehicle Passengers   1414  \n",
       "1            Personal Vehicles    763  \n",
       "2       Truck Containers Empty    412  \n",
       "3        Truck Containers Full    122  \n",
       "4                       Trucks    545  "
      ]
     },
     "execution_count": 1,
     "metadata": {},
     "output_type": "execute_result"
    }
   ],
   "source": [
    "import numpy as np\n",
    "import pandas as pd\n",
    "import matplotlib.pyplot as plt\n",
    "from sklearn.linear_model import LinearRegression\n",
    "from sklearn.model_selection import train_test_split\n",
    "from sklearn.metrics import r2_score, mean_squared_error\n",
    "import seaborn as sns\n",
    "sns.set_style('dark')\n",
    "%matplotlib inline\n",
    "\n",
    "pf = pd.read_csv(\"./Border_Crossing_Entry_Data.csv\")\n",
    "pf.head()"
   ]
  },
  {
   "cell_type": "markdown",
   "metadata": {},
   "source": [
    "## Problem Understanding ##\n",
    "\n",
    "The General Questions formed:-\n",
    "\n",
    "    1. Which is the leading neighbouring country from which a huge number of people cross the border?\n",
    "    2. What is the most prefered Measure in order to cross the border?\n",
    "    3. Which ports are more sensitive areas?\n",
    "    4. Is there any specific relation with the count of border crossing with the Date?\n",
    "    5. How well can the Value be predicted? What aspects correlate well to the number od people crossing the border?\n"
   ]
  },
  {
   "cell_type": "markdown",
   "metadata": {},
   "source": [
    "## Data Understanding ##\n",
    "\n",
    "It is always essential to look the type of data which is used.\n",
    "\n",
    "Starting from the dimensions of input data \n"
   ]
  },
  {
   "cell_type": "code",
   "execution_count": 2,
   "metadata": {},
   "outputs": [],
   "source": [
    "(rows,column) = pf.shape"
   ]
  },
  {
   "cell_type": "code",
   "execution_count": 3,
   "metadata": {},
   "outputs": [
    {
     "data": {
      "text/plain": [
       "(355511, 7)"
      ]
     },
     "execution_count": 3,
     "metadata": {},
     "output_type": "execute_result"
    }
   ],
   "source": [
    "rows, column"
   ]
  },
  {
   "cell_type": "markdown",
   "metadata": {},
   "source": [
    "Therefore the dataset contains 355511 rows and 7 columns in total"
   ]
  },
  {
   "cell_type": "code",
   "execution_count": 4,
   "metadata": {},
   "outputs": [
    {
     "data": {
      "text/plain": [
       "Port Name    0\n",
       "State        0\n",
       "Port Code    0\n",
       "Border       0\n",
       "Date         0\n",
       "Measure      0\n",
       "Value        0\n",
       "dtype: int64"
      ]
     },
     "execution_count": 4,
     "metadata": {},
     "output_type": "execute_result"
    }
   ],
   "source": [
    "# The total number of blank cells in the dataset\n",
    "\n",
    "np.sum(pf.isnull())"
   ]
  },
  {
   "cell_type": "code",
   "execution_count": 5,
   "metadata": {},
   "outputs": [
    {
     "name": "stdout",
     "output_type": "stream",
     "text": [
      "<class 'pandas.core.frame.DataFrame'>\n",
      "RangeIndex: 355511 entries, 0 to 355510\n",
      "Data columns (total 7 columns):\n",
      "Port Name    355511 non-null object\n",
      "State        355511 non-null object\n",
      "Port Code    355511 non-null int64\n",
      "Border       355511 non-null object\n",
      "Date         355511 non-null object\n",
      "Measure      355511 non-null object\n",
      "Value        355511 non-null int64\n",
      "dtypes: int64(2), object(5)\n",
      "memory usage: 19.0+ MB\n"
     ]
    }
   ],
   "source": [
    "pf.info()"
   ]
  },
  {
   "cell_type": "markdown",
   "metadata": {},
   "source": [
    "## Question 1 ##\n",
    "As there is no presence of blank data, therefore we can directly go to our first question."
   ]
  },
  {
   "cell_type": "code",
   "execution_count": 6,
   "metadata": {},
   "outputs": [
    {
     "data": {
      "text/plain": [
       "Border\n",
       "US-Canada Border    2776127401\n",
       "US-Mexico Border    7337300710\n",
       "Name: Value, dtype: int64"
      ]
     },
     "execution_count": 6,
     "metadata": {},
     "output_type": "execute_result"
    }
   ],
   "source": [
    "pf.groupby(\"Border\").sum()[\"Value\"].sort_values()"
   ]
  },
  {
   "cell_type": "code",
   "execution_count": 7,
   "metadata": {},
   "outputs": [
    {
     "data": {
      "text/plain": [
       "Text(0.5, 1.0, 'Which Border is more exposed?')"
      ]
     },
     "execution_count": 7,
     "metadata": {},
     "output_type": "execute_result"
    },
    {
     "data": {
      "image/png": "[encoded data removed]",
      "text/plain": [
       "<Figure size 432x288 with 1 Axes>"
      ]
     },
     "metadata": {
      "needs_background": "light"
     },
     "output_type": "display_data"
    }
   ],
   "source": [
    "pf.groupby(\"Border\").sum()[\"Value\"].sort_values().plot(kind = 'bar');\n",
    "plt.title(\"Which Border is more exposed?\")"
   ]
  },
  {
   "cell_type": "markdown",
   "metadata": {},
   "source": [
    "Hence, Clearly through the bar chart we get our answer for 1st Question, the <b> US-Mexico Border </b> is more vurnerable to people crossing the border"
   ]
  },
  {
   "cell_type": "markdown",
   "metadata": {},
   "source": [
    "## Question 2 ##\n",
    "\n",
    "The importance of Measure in crossing the border"
   ]
  },
  {
   "cell_type": "code",
   "execution_count": 8,
   "metadata": {},
   "outputs": [
    {
     "data": {
      "image/png": "[encoded data removed]",
      "text/plain": [
       "<Figure size 432x288 with 1 Axes>"
      ]
     },
     "metadata": {
      "needs_background": "light"
     },
     "output_type": "display_data"
    }
   ],
   "source": [
    "m_val = pf.Measure.value_counts()\n",
    "\n",
    "(m_val/rows).plot(kind = 'bar');\n",
    "plt.title(\"Which is the most occured Measure to cross the border?\");"
   ]
  },
  {
   "cell_type": "markdown",
   "metadata": {},
   "source": [
    "The exact share of values of Measures will be beneficial "
   ]
  },
  {
   "cell_type": "code",
   "execution_count": 9,
   "metadata": {},
   "outputs": [
    {
     "data": {
      "text/plain": [
       "Measure\n",
       "Trains                             933270\n",
       "Train Passengers                  6472717\n",
       "Buses                             8754394\n",
       "Rail Containers Empty            22386399\n",
       "Rail Containers Full             40492650\n",
       "Truck Containers Empty           67036035\n",
       "Bus Passengers                  146027374\n",
       "Truck Containers Full           185463194\n",
       "Trucks                          264731943\n",
       "Pedestrians                    1090067964\n",
       "Personal Vehicles              2651535415\n",
       "Personal Vehicle Passengers    5629526756\n",
       "Name: Value, dtype: int64"
      ]
     },
     "execution_count": 9,
     "metadata": {},
     "output_type": "execute_result"
    }
   ],
   "source": [
    "pf.groupby(\"Measure\").sum()[\"Value\"].sort_values()"
   ]
  },
  {
   "cell_type": "code",
   "execution_count": 10,
   "metadata": {},
   "outputs": [
    {
     "data": {
      "text/plain": [
       "Text(0.5, 1.0, 'Which is the most used measure to vross the border?')"
      ]
     },
     "execution_count": 10,
     "metadata": {},
     "output_type": "execute_result"
    },
    {
     "data": {
      "image/png": "[encoded data removed]",
      "text/plain": [
       "<Figure size 432x288 with 1 Axes>"
      ]
     },
     "metadata": {
      "needs_background": "light"
     },
     "output_type": "display_data"
    }
   ],
   "source": [
    "pf.groupby(\"Measure\").sum()[\"Value\"].sort_values().plot(kind = 'bar');\n",
    "plt.title(\"Which is the most used measure to vross the border?\")"
   ]
  },
  {
   "cell_type": "markdown",
   "metadata": {},
   "source": [
    " **Personal Vehicle Passengers** are the category of people having maximum tendency to cross the border"
   ]
  },
  {
   "cell_type": "markdown",
   "metadata": {},
   "source": [
    "An analysis of Border wise Measures may be beneficial to visualize the data furthur "
   ]
  },
  {
   "cell_type": "code",
   "execution_count": 11,
   "metadata": {},
   "outputs": [
    {
     "data": {
      "image/png": "[encoded data removed]",
      "text/plain": [
       "<Figure size 432x288 with 1 Axes>"
      ]
     },
     "metadata": {
      "needs_background": "light"
     },
     "output_type": "display_data"
    }
   ],
   "source": [
    "pf.groupby([\"Measure\",\"Border\"]).sum()[\"Value\"].plot(kind = 'bar');\n",
    "plt.title(\"Measures used in respective borders\");"
   ]
  },
  {
   "cell_type": "code",
   "execution_count": 12,
   "metadata": {},
   "outputs": [
    {
     "data": {
      "text/plain": [
       "Measure                      Border          \n",
       "Bus Passengers               US-Canada Border      75934445\n",
       "                             US-Mexico Border      70092929\n",
       "Buses                        US-Canada Border       3165357\n",
       "                             US-Mexico Border       5589037\n",
       "Pedestrians                  US-Canada Border      13474580\n",
       "                             US-Mexico Border    1076593384\n",
       "Personal Vehicle Passengers  US-Canada Border    1586449974\n",
       "                             US-Mexico Border    4043076782\n",
       "Personal Vehicles            US-Canada Border     761000003\n",
       "                             US-Mexico Border    1890535412\n",
       "Rail Containers Empty        US-Canada Border      13036047\n",
       "                             US-Mexico Border       9350352\n",
       "Rail Containers Full         US-Canada Border      32211453\n",
       "                             US-Mexico Border       8281197\n",
       "Train Passengers             US-Canada Border       6177238\n",
       "                             US-Mexico Border        295479\n",
       "Trains                       US-Canada Border        719820\n",
       "                             US-Mexico Border        213450\n",
       "Truck Containers Empty       US-Canada Border      25978593\n",
       "                             US-Mexico Border      41057442\n",
       "Truck Containers Full        US-Canada Border     110492381\n",
       "                             US-Mexico Border      74970813\n",
       "Trucks                       US-Canada Border     147487510\n",
       "                             US-Mexico Border     117244433\n",
       "Name: Value, dtype: int64"
      ]
     },
     "execution_count": 12,
     "metadata": {},
     "output_type": "execute_result"
    }
   ],
   "source": [
    "pf.groupby([\"Measure\",\"Border\"]).sum()[\"Value\"]"
   ]
  },
  {
   "cell_type": "markdown",
   "metadata": {},
   "source": [
    "Hence, it is clear that overall <b> Personal Vehicles </b> are used mostly to cross the border."
   ]
  },
  {
   "cell_type": "markdown",
   "metadata": {},
   "source": [
    "## Question 3 ##\n",
    "\n",
    "Which are the specific ports that are sensitive ??\n",
    "\n",
    "Well, it is clear by question 1, that which border is more sensitive, but now the question is there any particular state with the maximum tendency for border-crossing"
   ]
  },
  {
   "cell_type": "code",
   "execution_count": 13,
   "metadata": {},
   "outputs": [
    {
     "data": {
      "image/png": "[encoded data removed]",
      "text/plain": [
       "<Figure size 432x288 with 1 Axes>"
      ]
     },
     "metadata": {
      "needs_background": "light"
     },
     "output_type": "display_data"
    }
   ],
   "source": [
    "p_val = pf.State.value_counts()\n",
    "\n",
    "(p_val/rows).plot(kind = 'bar');\n",
    "plt.title(\"Which is the most found Measure to cross the border?\");"
   ]
  },
  {
   "cell_type": "code",
   "execution_count": 14,
   "metadata": {},
   "outputs": [
    {
     "data": {
      "text/plain": [
       "State\n",
       "OH           607\n",
       "AK      14676856\n",
       "ID      21833390\n",
       "MT      56139436\n",
       "NM      68560332\n",
       "ND      78600964\n",
       "MN      99126985\n",
       "VT     118116868\n",
       "ME     236781464\n",
       "WA     521397911\n",
       "MI     775410321\n",
       "NY     854042599\n",
       "AZ     918287879\n",
       "CA    2602572970\n",
       "TX    3747879529\n",
       "Name: Value, dtype: int64"
      ]
     },
     "execution_count": 14,
     "metadata": {},
     "output_type": "execute_result"
    }
   ],
   "source": [
    "pf.groupby(\"State\").sum()[\"Value\"].sort_values()"
   ]
  },
  {
   "cell_type": "code",
   "execution_count": 15,
   "metadata": {},
   "outputs": [
    {
     "data": {
      "text/plain": [
       "Text(0.5, 1.0, 'Which state is more exposed to people crossing the border ?')"
      ]
     },
     "execution_count": 15,
     "metadata": {},
     "output_type": "execute_result"
    },
    {
     "data": {
      "image/png": "[encoded data removed]",
      "text/plain": [
       "<Figure size 432x288 with 1 Axes>"
      ]
     },
     "metadata": {
      "needs_background": "light"
     },
     "output_type": "display_data"
    }
   ],
   "source": [
    "pf.groupby(\"State\").sum()[\"Value\"].sort_values().plot(kind = 'bar');\n",
    "plt.title(\"Which state is more exposed to people crossing the border ?\")"
   ]
  },
  {
   "cell_type": "markdown",
   "metadata": {},
   "source": [
    "Hence it is clear by the fact that Texas has the highest tendency following California and Arizona.\n",
    "\n",
    "Now, Let's observe if we can co-relate between the Results of Question 1 "
   ]
  },
  {
   "cell_type": "code",
   "execution_count": 16,
   "metadata": {},
   "outputs": [
    {
     "data": {
      "image/png": "[encoded data removed]",
      "text/plain": [
       "<Figure size 432x288 with 1 Axes>"
      ]
     },
     "metadata": {
      "needs_background": "light"
     },
     "output_type": "display_data"
    }
   ],
   "source": [
    "pf.groupby([\"State\",\"Border\"]).sum()[\"Value\"].plot(kind = 'bar');\n",
    "plt.title(\"Measures used in respective borders\");"
   ]
  },
  {
   "cell_type": "markdown",
   "metadata": {},
   "source": [
    "The three most sensitive states (Texas, California, Arizona) are the one's lying along the US-Mexico and hence justifying the findings of Question 1"
   ]
  },
  {
   "cell_type": "markdown",
   "metadata": {},
   "source": [
    "## Prepare Data ##"
   ]
  },
  {
   "cell_type": "markdown",
   "metadata": {},
   "source": [
    "Now, We have established that a relation exists between the Value and Border, Measures,State. \n",
    "\n",
    "In order to find any particular time affecting Values, we need to analyse the Date with Values. Instead of directly working with dd-mm-yyyy format creating new frames of Date, Month, Year helps analyse the Data better !! Let's Check"
   ]
  },
  {
   "cell_type": "code",
   "execution_count": 17,
   "metadata": {},
   "outputs": [
    {
     "data": {
      "text/plain": [
       "0   2020-02-01\n",
       "1   2020-03-01\n",
       "2   2020-04-01\n",
       "3   2020-05-01\n",
       "4   2020-06-01\n",
       "Name: Date, dtype: datetime64[ns]"
      ]
     },
     "execution_count": 17,
     "metadata": {},
     "output_type": "execute_result"
    }
   ],
   "source": [
    "pf['Date'] = pd.to_datetime(pf['Date']) # converting the date column to datetime format for ease of conversion\n",
    "pf['Date'].head()\n"
   ]
  },
  {
   "cell_type": "code",
   "execution_count": 18,
   "metadata": {},
   "outputs": [],
   "source": [
    "pf['year'] = pf['Date'].dt.year\n",
    "pf['month'] = pf['Date'].dt.month\n",
    "pf['day'] = pf['Date'].dt.day"
   ]
  },
  {
   "cell_type": "code",
   "execution_count": 19,
   "metadata": {},
   "outputs": [
    {
     "data": {
      "text/html": [
       "<div>\n",
       "<style scoped>\n",
       "    .dataframe tbody tr th:only-of-type {\n",
       "        vertical-align: middle;\n",
       "    }\n",
       "\n",
       "    .dataframe tbody tr th {\n",
       "        vertical-align: top;\n",
       "    }\n",
       "\n",
       "    .dataframe thead th {\n",
       "        text-align: right;\n",
       "    }\n",
       "</style>\n",
       "<table border=\"1\" class=\"dataframe\">\n",
       "  <thead>\n",
       "    <tr style=\"text-align: right;\">\n",
       "      <th></th>\n",
       "      <th>Port Name</th>\n",
       "      <th>State</th>\n",
       "      <th>Port Code</th>\n",
       "      <th>Border</th>\n",
       "      <th>Date</th>\n",
       "      <th>Measure</th>\n",
       "      <th>Value</th>\n",
       "      <th>year</th>\n",
       "      <th>month</th>\n",
       "      <th>day</th>\n",
       "    </tr>\n",
       "  </thead>\n",
       "  <tbody>\n",
       "    <tr>\n",
       "      <th>0</th>\n",
       "      <td>Alcan</td>\n",
       "      <td>AK</td>\n",
       "      <td>3104</td>\n",
       "      <td>US-Canada Border</td>\n",
       "      <td>2020-02-01</td>\n",
       "      <td>Personal Vehicle Passengers</td>\n",
       "      <td>1414</td>\n",
       "      <td>2020</td>\n",
       "      <td>2</td>\n",
       "      <td>1</td>\n",
       "    </tr>\n",
       "    <tr>\n",
       "      <th>1</th>\n",
       "      <td>Alcan</td>\n",
       "      <td>AK</td>\n",
       "      <td>3104</td>\n",
       "      <td>US-Canada Border</td>\n",
       "      <td>2020-03-01</td>\n",
       "      <td>Personal Vehicles</td>\n",
       "      <td>763</td>\n",
       "      <td>2020</td>\n",
       "      <td>3</td>\n",
       "      <td>1</td>\n",
       "    </tr>\n",
       "    <tr>\n",
       "      <th>2</th>\n",
       "      <td>Alcan</td>\n",
       "      <td>AK</td>\n",
       "      <td>3104</td>\n",
       "      <td>US-Canada Border</td>\n",
       "      <td>2020-04-01</td>\n",
       "      <td>Truck Containers Empty</td>\n",
       "      <td>412</td>\n",
       "      <td>2020</td>\n",
       "      <td>4</td>\n",
       "      <td>1</td>\n",
       "    </tr>\n",
       "    <tr>\n",
       "      <th>3</th>\n",
       "      <td>Alcan</td>\n",
       "      <td>AK</td>\n",
       "      <td>3104</td>\n",
       "      <td>US-Canada Border</td>\n",
       "      <td>2020-05-01</td>\n",
       "      <td>Truck Containers Full</td>\n",
       "      <td>122</td>\n",
       "      <td>2020</td>\n",
       "      <td>5</td>\n",
       "      <td>1</td>\n",
       "    </tr>\n",
       "    <tr>\n",
       "      <th>4</th>\n",
       "      <td>Alcan</td>\n",
       "      <td>AK</td>\n",
       "      <td>3104</td>\n",
       "      <td>US-Canada Border</td>\n",
       "      <td>2020-06-01</td>\n",
       "      <td>Trucks</td>\n",
       "      <td>545</td>\n",
       "      <td>2020</td>\n",
       "      <td>6</td>\n",
       "      <td>1</td>\n",
       "    </tr>\n",
       "  </tbody>\n",
       "</table>\n",
       "</div>"
      ],
      "text/plain": [
       "  Port Name State  Port Code            Border       Date  \\\n",
       "0     Alcan    AK       3104  US-Canada Border 2020-02-01   \n",
       "1     Alcan    AK       3104  US-Canada Border 2020-03-01   \n",
       "2     Alcan    AK       3104  US-Canada Border 2020-04-01   \n",
       "3     Alcan    AK       3104  US-Canada Border 2020-05-01   \n",
       "4     Alcan    AK       3104  US-Canada Border 2020-06-01   \n",
       "\n",
       "                       Measure  Value  year  month  day  \n",
       "0  Personal Vehicle Passengers   1414  2020      2    1  \n",
       "1            Personal Vehicles    763  2020      3    1  \n",
       "2       Truck Containers Empty    412  2020      4    1  \n",
       "3        Truck Containers Full    122  2020      5    1  \n",
       "4                       Trucks    545  2020      6    1  "
      ]
     },
     "execution_count": 19,
     "metadata": {},
     "output_type": "execute_result"
    }
   ],
   "source": [
    "pf.head()"
   ]
  },
  {
   "cell_type": "markdown",
   "metadata": {},
   "source": [
    "The Result of the Previous cell shows that the new frames are added to main Dataframe and are ready to be observed. "
   ]
  },
  {
   "cell_type": "code",
   "execution_count": 20,
   "metadata": {},
   "outputs": [
    {
     "data": {
      "text/html": [
       "<div>\n",
       "<style scoped>\n",
       "    .dataframe tbody tr th:only-of-type {\n",
       "        vertical-align: middle;\n",
       "    }\n",
       "\n",
       "    .dataframe tbody tr th {\n",
       "        vertical-align: top;\n",
       "    }\n",
       "\n",
       "    .dataframe thead th {\n",
       "        text-align: right;\n",
       "    }\n",
       "</style>\n",
       "<table border=\"1\" class=\"dataframe\">\n",
       "  <thead>\n",
       "    <tr style=\"text-align: right;\">\n",
       "      <th></th>\n",
       "      <th>year</th>\n",
       "      <th>Value</th>\n",
       "    </tr>\n",
       "  </thead>\n",
       "  <tbody>\n",
       "    <tr>\n",
       "      <th>0</th>\n",
       "      <td>1996</td>\n",
       "      <td>429790351</td>\n",
       "    </tr>\n",
       "    <tr>\n",
       "      <th>1</th>\n",
       "      <td>1997</td>\n",
       "      <td>494174198</td>\n",
       "    </tr>\n",
       "    <tr>\n",
       "      <th>2</th>\n",
       "      <td>1998</td>\n",
       "      <td>508588404</td>\n",
       "    </tr>\n",
       "    <tr>\n",
       "      <th>3</th>\n",
       "      <td>1999</td>\n",
       "      <td>538456724</td>\n",
       "    </tr>\n",
       "    <tr>\n",
       "      <th>4</th>\n",
       "      <td>2000</td>\n",
       "      <td>540021542</td>\n",
       "    </tr>\n",
       "    <tr>\n",
       "      <th>5</th>\n",
       "      <td>2001</td>\n",
       "      <td>493083902</td>\n",
       "    </tr>\n",
       "    <tr>\n",
       "      <th>6</th>\n",
       "      <td>2002</td>\n",
       "      <td>475702818</td>\n",
       "    </tr>\n",
       "    <tr>\n",
       "      <th>7</th>\n",
       "      <td>2003</td>\n",
       "      <td>456392653</td>\n",
       "    </tr>\n",
       "    <tr>\n",
       "      <th>8</th>\n",
       "      <td>2004</td>\n",
       "      <td>458220298</td>\n",
       "    </tr>\n",
       "    <tr>\n",
       "      <th>9</th>\n",
       "      <td>2005</td>\n",
       "      <td>450234268</td>\n",
       "    </tr>\n",
       "    <tr>\n",
       "      <th>10</th>\n",
       "      <td>2006</td>\n",
       "      <td>440296022</td>\n",
       "    </tr>\n",
       "    <tr>\n",
       "      <th>11</th>\n",
       "      <td>2007</td>\n",
       "      <td>417587175</td>\n",
       "    </tr>\n",
       "    <tr>\n",
       "      <th>12</th>\n",
       "      <td>2008</td>\n",
       "      <td>399902033</td>\n",
       "    </tr>\n",
       "    <tr>\n",
       "      <th>13</th>\n",
       "      <td>2009</td>\n",
       "      <td>359451762</td>\n",
       "    </tr>\n",
       "    <tr>\n",
       "      <th>14</th>\n",
       "      <td>2010</td>\n",
       "      <td>344246536</td>\n",
       "    </tr>\n",
       "    <tr>\n",
       "      <th>15</th>\n",
       "      <td>2011</td>\n",
       "      <td>332226000</td>\n",
       "    </tr>\n",
       "    <tr>\n",
       "      <th>16</th>\n",
       "      <td>2012</td>\n",
       "      <td>344503916</td>\n",
       "    </tr>\n",
       "    <tr>\n",
       "      <th>17</th>\n",
       "      <td>2013</td>\n",
       "      <td>356218438</td>\n",
       "    </tr>\n",
       "    <tr>\n",
       "      <th>18</th>\n",
       "      <td>2014</td>\n",
       "      <td>363314116</td>\n",
       "    </tr>\n",
       "    <tr>\n",
       "      <th>19</th>\n",
       "      <td>2015</td>\n",
       "      <td>365219998</td>\n",
       "    </tr>\n",
       "    <tr>\n",
       "      <th>20</th>\n",
       "      <td>2016</td>\n",
       "      <td>367484183</td>\n",
       "    </tr>\n",
       "    <tr>\n",
       "      <th>21</th>\n",
       "      <td>2017</td>\n",
       "      <td>372971276</td>\n",
       "    </tr>\n",
       "    <tr>\n",
       "      <th>22</th>\n",
       "      <td>2018</td>\n",
       "      <td>379157530</td>\n",
       "    </tr>\n",
       "    <tr>\n",
       "      <th>23</th>\n",
       "      <td>2019</td>\n",
       "      <td>101263878</td>\n",
       "    </tr>\n",
       "    <tr>\n",
       "      <th>24</th>\n",
       "      <td>2020</td>\n",
       "      <td>15824686</td>\n",
       "    </tr>\n",
       "    <tr>\n",
       "      <th>25</th>\n",
       "      <td>2021</td>\n",
       "      <td>11149404</td>\n",
       "    </tr>\n",
       "    <tr>\n",
       "      <th>26</th>\n",
       "      <td>2022</td>\n",
       "      <td>14756243</td>\n",
       "    </tr>\n",
       "    <tr>\n",
       "      <th>27</th>\n",
       "      <td>2023</td>\n",
       "      <td>13649362</td>\n",
       "    </tr>\n",
       "    <tr>\n",
       "      <th>28</th>\n",
       "      <td>2024</td>\n",
       "      <td>22186839</td>\n",
       "    </tr>\n",
       "    <tr>\n",
       "      <th>29</th>\n",
       "      <td>2025</td>\n",
       "      <td>9075323</td>\n",
       "    </tr>\n",
       "    <tr>\n",
       "      <th>30</th>\n",
       "      <td>2026</td>\n",
       "      <td>15191026</td>\n",
       "    </tr>\n",
       "    <tr>\n",
       "      <th>31</th>\n",
       "      <td>2027</td>\n",
       "      <td>13698854</td>\n",
       "    </tr>\n",
       "    <tr>\n",
       "      <th>32</th>\n",
       "      <td>2028</td>\n",
       "      <td>6113998</td>\n",
       "    </tr>\n",
       "    <tr>\n",
       "      <th>33</th>\n",
       "      <td>2029</td>\n",
       "      <td>24522920</td>\n",
       "    </tr>\n",
       "    <tr>\n",
       "      <th>34</th>\n",
       "      <td>2030</td>\n",
       "      <td>8354200</td>\n",
       "    </tr>\n",
       "    <tr>\n",
       "      <th>35</th>\n",
       "      <td>2031</td>\n",
       "      <td>13706694</td>\n",
       "    </tr>\n",
       "    <tr>\n",
       "      <th>36</th>\n",
       "      <td>2032</td>\n",
       "      <td>11141518</td>\n",
       "    </tr>\n",
       "    <tr>\n",
       "      <th>37</th>\n",
       "      <td>2033</td>\n",
       "      <td>20183406</td>\n",
       "    </tr>\n",
       "    <tr>\n",
       "      <th>38</th>\n",
       "      <td>2034</td>\n",
       "      <td>13514399</td>\n",
       "    </tr>\n",
       "    <tr>\n",
       "      <th>39</th>\n",
       "      <td>2035</td>\n",
       "      <td>17504789</td>\n",
       "    </tr>\n",
       "    <tr>\n",
       "      <th>40</th>\n",
       "      <td>2036</td>\n",
       "      <td>15450733</td>\n",
       "    </tr>\n",
       "    <tr>\n",
       "      <th>41</th>\n",
       "      <td>2037</td>\n",
       "      <td>11916960</td>\n",
       "    </tr>\n",
       "    <tr>\n",
       "      <th>42</th>\n",
       "      <td>2038</td>\n",
       "      <td>18753250</td>\n",
       "    </tr>\n",
       "    <tr>\n",
       "      <th>43</th>\n",
       "      <td>2039</td>\n",
       "      <td>3589348</td>\n",
       "    </tr>\n",
       "    <tr>\n",
       "      <th>44</th>\n",
       "      <td>2040</td>\n",
       "      <td>15182251</td>\n",
       "    </tr>\n",
       "    <tr>\n",
       "      <th>45</th>\n",
       "      <td>2041</td>\n",
       "      <td>15492534</td>\n",
       "    </tr>\n",
       "    <tr>\n",
       "      <th>46</th>\n",
       "      <td>2042</td>\n",
       "      <td>12923993</td>\n",
       "    </tr>\n",
       "    <tr>\n",
       "      <th>47</th>\n",
       "      <td>2043</td>\n",
       "      <td>1037360</td>\n",
       "    </tr>\n",
       "  </tbody>\n",
       "</table>\n",
       "</div>"
      ],
      "text/plain": [
       "    year      Value\n",
       "0   1996  429790351\n",
       "1   1997  494174198\n",
       "2   1998  508588404\n",
       "3   1999  538456724\n",
       "4   2000  540021542\n",
       "5   2001  493083902\n",
       "6   2002  475702818\n",
       "7   2003  456392653\n",
       "8   2004  458220298\n",
       "9   2005  450234268\n",
       "10  2006  440296022\n",
       "11  2007  417587175\n",
       "12  2008  399902033\n",
       "13  2009  359451762\n",
       "14  2010  344246536\n",
       "15  2011  332226000\n",
       "16  2012  344503916\n",
       "17  2013  356218438\n",
       "18  2014  363314116\n",
       "19  2015  365219998\n",
       "20  2016  367484183\n",
       "21  2017  372971276\n",
       "22  2018  379157530\n",
       "23  2019  101263878\n",
       "24  2020   15824686\n",
       "25  2021   11149404\n",
       "26  2022   14756243\n",
       "27  2023   13649362\n",
       "28  2024   22186839\n",
       "29  2025    9075323\n",
       "30  2026   15191026\n",
       "31  2027   13698854\n",
       "32  2028    6113998\n",
       "33  2029   24522920\n",
       "34  2030    8354200\n",
       "35  2031   13706694\n",
       "36  2032   11141518\n",
       "37  2033   20183406\n",
       "38  2034   13514399\n",
       "39  2035   17504789\n",
       "40  2036   15450733\n",
       "41  2037   11916960\n",
       "42  2038   18753250\n",
       "43  2039    3589348\n",
       "44  2040   15182251\n",
       "45  2041   15492534\n",
       "46  2042   12923993\n",
       "47  2043    1037360"
      ]
     },
     "execution_count": 20,
     "metadata": {},
     "output_type": "execute_result"
    }
   ],
   "source": [
    "sum_crossing = pf.groupby(\"year\").sum()[\"Value\"].reset_index()\n",
    "sum_crossing"
   ]
  },
  {
   "cell_type": "markdown",
   "metadata": {},
   "source": [
    "## Question 4 ##\n",
    "\n",
    "Now, the question arrises the relation between the time and Value, is there any preference of time where people find it easy to cross the border??"
   ]
  },
  {
   "cell_type": "code",
   "execution_count": 21,
   "metadata": {},
   "outputs": [
    {
     "data": {
      "image/png": "[encoded data removed]",
      "text/plain": [
       "<Figure size 1080x360 with 1 Axes>"
      ]
     },
     "metadata": {
      "needs_background": "light"
     },
     "output_type": "display_data"
    }
   ],
   "source": [
    "plt.figure(figsize=(15,5))\n",
    "plt.grid()\n",
    "sns.set_style('dark')\n",
    "sns.barplot(x='year',y='Value',data=sum_crossing);\n",
    "plt.title('Amount per year');"
   ]
  },
  {
   "cell_type": "markdown",
   "metadata": {},
   "source": [
    "On analysing the data in a bar graph, it appears very conjusted and extends till 2043, but they are probably some of the predicted value that should not be incorporated in our training set in our 4th part, So it is better to drop . (Done later)\n",
    "\n",
    "Now, Let's check the same for the date and month."
   ]
  },
  {
   "cell_type": "code",
   "execution_count": 22,
   "metadata": {},
   "outputs": [],
   "source": [
    "sum_month=pf.groupby('month').sum()['Value'].reset_index()"
   ]
  },
  {
   "cell_type": "code",
   "execution_count": 23,
   "metadata": {},
   "outputs": [
    {
     "data": {
      "image/png": "[encoded data removed]",
      "text/plain": [
       "<Figure size 1080x720 with 1 Axes>"
      ]
     },
     "metadata": {},
     "output_type": "display_data"
    }
   ],
   "source": [
    "plt.figure(figsize=(15,10))\n",
    "plt.grid()\n",
    "sns.set_style('dark')\n",
    "sns.barplot(x='month',y='Value',data=sum_month);"
   ]
  },
  {
   "cell_type": "markdown",
   "metadata": {},
   "source": [
    "The month data is completely fine and shows a maximum rise generally in the Summer and Autumn Season, while a decrease in the Winter season. It can be due to the climatic condition in the Northern border."
   ]
  },
  {
   "cell_type": "code",
   "execution_count": 24,
   "metadata": {},
   "outputs": [],
   "source": [
    "sum_day=pf.groupby('day').sum()['Value'].reset_index()"
   ]
  },
  {
   "cell_type": "code",
   "execution_count": 25,
   "metadata": {},
   "outputs": [
    {
     "data": {
      "text/plain": [
       "Text(0.5, 1.0, 'Amount per year')"
      ]
     },
     "execution_count": 25,
     "metadata": {},
     "output_type": "execute_result"
    },
    {
     "data": {
      "image/png": "[encoded data removed]",
      "text/plain": [
       "<Figure size 1080x360 with 1 Axes>"
      ]
     },
     "metadata": {},
     "output_type": "display_data"
    }
   ],
   "source": [
    "plt.figure(figsize=(15,5))\n",
    "plt.grid()\n",
    "sns.set_style('dark')\n",
    "sns.barplot(x='day',y='Value',data=sum_day)\n",
    "plt.title('Amount per year')"
   ]
  },
  {
   "cell_type": "markdown",
   "metadata": {},
   "source": [
    "While analysing the data, the days are marked as 1. Therefore we can consider the day column of the dataset as a constant parameter. So, it is better to drop the value as a particular Scalar Quantity does not affect the result of a Linear Regression Model. \n",
    "\n",
    "Similarly, We have separated the components of date, so the date parameter vector can be thought of a linear dependent vector with the day,month,year vector. So, dropping it makes no such variation."
   ]
  },
  {
   "cell_type": "code",
   "execution_count": 26,
   "metadata": {},
   "outputs": [],
   "source": [
    "pf.drop(columns='day',inplace=True)"
   ]
  },
  {
   "cell_type": "code",
   "execution_count": 27,
   "metadata": {},
   "outputs": [
    {
     "data": {
      "text/html": [
       "<div>\n",
       "<style scoped>\n",
       "    .dataframe tbody tr th:only-of-type {\n",
       "        vertical-align: middle;\n",
       "    }\n",
       "\n",
       "    .dataframe tbody tr th {\n",
       "        vertical-align: top;\n",
       "    }\n",
       "\n",
       "    .dataframe thead th {\n",
       "        text-align: right;\n",
       "    }\n",
       "</style>\n",
       "<table border=\"1\" class=\"dataframe\">\n",
       "  <thead>\n",
       "    <tr style=\"text-align: right;\">\n",
       "      <th></th>\n",
       "      <th>Port Name</th>\n",
       "      <th>State</th>\n",
       "      <th>Port Code</th>\n",
       "      <th>Border</th>\n",
       "      <th>Measure</th>\n",
       "      <th>Value</th>\n",
       "      <th>year</th>\n",
       "      <th>month</th>\n",
       "    </tr>\n",
       "  </thead>\n",
       "  <tbody>\n",
       "    <tr>\n",
       "      <th>0</th>\n",
       "      <td>Alcan</td>\n",
       "      <td>AK</td>\n",
       "      <td>3104</td>\n",
       "      <td>US-Canada Border</td>\n",
       "      <td>Personal Vehicle Passengers</td>\n",
       "      <td>1414</td>\n",
       "      <td>2020</td>\n",
       "      <td>2</td>\n",
       "    </tr>\n",
       "    <tr>\n",
       "      <th>1</th>\n",
       "      <td>Alcan</td>\n",
       "      <td>AK</td>\n",
       "      <td>3104</td>\n",
       "      <td>US-Canada Border</td>\n",
       "      <td>Personal Vehicles</td>\n",
       "      <td>763</td>\n",
       "      <td>2020</td>\n",
       "      <td>3</td>\n",
       "    </tr>\n",
       "    <tr>\n",
       "      <th>2</th>\n",
       "      <td>Alcan</td>\n",
       "      <td>AK</td>\n",
       "      <td>3104</td>\n",
       "      <td>US-Canada Border</td>\n",
       "      <td>Truck Containers Empty</td>\n",
       "      <td>412</td>\n",
       "      <td>2020</td>\n",
       "      <td>4</td>\n",
       "    </tr>\n",
       "    <tr>\n",
       "      <th>3</th>\n",
       "      <td>Alcan</td>\n",
       "      <td>AK</td>\n",
       "      <td>3104</td>\n",
       "      <td>US-Canada Border</td>\n",
       "      <td>Truck Containers Full</td>\n",
       "      <td>122</td>\n",
       "      <td>2020</td>\n",
       "      <td>5</td>\n",
       "    </tr>\n",
       "    <tr>\n",
       "      <th>4</th>\n",
       "      <td>Alcan</td>\n",
       "      <td>AK</td>\n",
       "      <td>3104</td>\n",
       "      <td>US-Canada Border</td>\n",
       "      <td>Trucks</td>\n",
       "      <td>545</td>\n",
       "      <td>2020</td>\n",
       "      <td>6</td>\n",
       "    </tr>\n",
       "  </tbody>\n",
       "</table>\n",
       "</div>"
      ],
      "text/plain": [
       "  Port Name State  Port Code            Border                      Measure  \\\n",
       "0     Alcan    AK       3104  US-Canada Border  Personal Vehicle Passengers   \n",
       "1     Alcan    AK       3104  US-Canada Border            Personal Vehicles   \n",
       "2     Alcan    AK       3104  US-Canada Border       Truck Containers Empty   \n",
       "3     Alcan    AK       3104  US-Canada Border        Truck Containers Full   \n",
       "4     Alcan    AK       3104  US-Canada Border                       Trucks   \n",
       "\n",
       "   Value  year  month  \n",
       "0   1414  2020      2  \n",
       "1    763  2020      3  \n",
       "2    412  2020      4  \n",
       "3    122  2020      5  \n",
       "4    545  2020      6  "
      ]
     },
     "execution_count": 27,
     "metadata": {},
     "output_type": "execute_result"
    }
   ],
   "source": [
    "pf.drop(columns='Date',inplace=True)\n",
    "pf.head()"
   ]
  },
  {
   "cell_type": "markdown",
   "metadata": {},
   "source": [
    "Now, there are value of year which suggest some future predictions, instead of totally dumping them makes no sense, We can use it as a test value and test our final model of predicting the number of people crossing the border. \n",
    "\n",
    "So, I create a new data frame containing only the future predicted values."
   ]
  },
  {
   "cell_type": "code",
   "execution_count": 28,
   "metadata": {},
   "outputs": [
    {
     "data": {
      "text/plain": [
       "2043"
      ]
     },
     "execution_count": 28,
     "metadata": {},
     "output_type": "execute_result"
    }
   ],
   "source": [
    "pf['year'].max()"
   ]
  },
  {
   "cell_type": "code",
   "execution_count": 29,
   "metadata": {},
   "outputs": [],
   "source": [
    "place = [i for i in range(2021, 2044)]\n",
    "replace = [np.nan for i in range(2021, 2044)]"
   ]
  },
  {
   "cell_type": "code",
   "execution_count": 30,
   "metadata": {},
   "outputs": [],
   "source": [
    "model_pf = pf[pf['year'] > 2020]"
   ]
  },
  {
   "cell_type": "code",
   "execution_count": 31,
   "metadata": {},
   "outputs": [],
   "source": [
    "pf[\"year\"].replace(place, replace, inplace = True)"
   ]
  },
  {
   "cell_type": "code",
   "execution_count": 32,
   "metadata": {},
   "outputs": [],
   "source": [
    "sum_crossing=pf.groupby(\"year\").sum()[\"Value\"].reset_index()"
   ]
  },
  {
   "cell_type": "code",
   "execution_count": 33,
   "metadata": {},
   "outputs": [
    {
     "data": {
      "image/png": "[encoded data removed]",
      "text/plain": [
       "<Figure size 1440x720 with 1 Axes>"
      ]
     },
     "metadata": {},
     "output_type": "display_data"
    }
   ],
   "source": [
    "plt.figure(figsize=(20,10))\n",
    "sns.barplot(x='year',y='Value',data=sum_crossing);\n",
    "plt.title('Growth per year');"
   ]
  },
  {
   "cell_type": "markdown",
   "metadata": {},
   "source": [
    "Yes!! Now, the data looks perfect and is ready to go. Now, all the data "
   ]
  },
  {
   "cell_type": "code",
   "execution_count": 34,
   "metadata": {},
   "outputs": [
    {
     "data": {
      "text/html": [
       "<div>\n",
       "<style scoped>\n",
       "    .dataframe tbody tr th:only-of-type {\n",
       "        vertical-align: middle;\n",
       "    }\n",
       "\n",
       "    .dataframe tbody tr th {\n",
       "        vertical-align: top;\n",
       "    }\n",
       "\n",
       "    .dataframe thead th {\n",
       "        text-align: right;\n",
       "    }\n",
       "</style>\n",
       "<table border=\"1\" class=\"dataframe\">\n",
       "  <thead>\n",
       "    <tr style=\"text-align: right;\">\n",
       "      <th></th>\n",
       "      <th>Port Code</th>\n",
       "      <th>Value</th>\n",
       "      <th>year</th>\n",
       "      <th>month</th>\n",
       "    </tr>\n",
       "  </thead>\n",
       "  <tbody>\n",
       "    <tr>\n",
       "      <th>count</th>\n",
       "      <td>355511.000000</td>\n",
       "      <td>3.555110e+05</td>\n",
       "      <td>347451.000000</td>\n",
       "      <td>355511.000000</td>\n",
       "    </tr>\n",
       "    <tr>\n",
       "      <th>mean</th>\n",
       "      <td>2454.009921</td>\n",
       "      <td>2.844758e+04</td>\n",
       "      <td>2006.847515</td>\n",
       "      <td>6.446591</td>\n",
       "    </tr>\n",
       "    <tr>\n",
       "      <th>std</th>\n",
       "      <td>1201.900231</td>\n",
       "      <td>1.518807e+05</td>\n",
       "      <td>6.451848</td>\n",
       "      <td>3.455289</td>\n",
       "    </tr>\n",
       "    <tr>\n",
       "      <th>min</th>\n",
       "      <td>101.000000</td>\n",
       "      <td>0.000000e+00</td>\n",
       "      <td>1996.000000</td>\n",
       "      <td>1.000000</td>\n",
       "    </tr>\n",
       "    <tr>\n",
       "      <th>25%</th>\n",
       "      <td>2304.000000</td>\n",
       "      <td>0.000000e+00</td>\n",
       "      <td>2001.000000</td>\n",
       "      <td>3.000000</td>\n",
       "    </tr>\n",
       "    <tr>\n",
       "      <th>50%</th>\n",
       "      <td>3013.000000</td>\n",
       "      <td>1.000000e+02</td>\n",
       "      <td>2007.000000</td>\n",
       "      <td>6.000000</td>\n",
       "    </tr>\n",
       "    <tr>\n",
       "      <th>75%</th>\n",
       "      <td>3402.000000</td>\n",
       "      <td>2.597500e+03</td>\n",
       "      <td>2012.000000</td>\n",
       "      <td>9.000000</td>\n",
       "    </tr>\n",
       "    <tr>\n",
       "      <th>max</th>\n",
       "      <td>4105.000000</td>\n",
       "      <td>4.447374e+06</td>\n",
       "      <td>2020.000000</td>\n",
       "      <td>12.000000</td>\n",
       "    </tr>\n",
       "  </tbody>\n",
       "</table>\n",
       "</div>"
      ],
      "text/plain": [
       "           Port Code         Value           year          month\n",
       "count  355511.000000  3.555110e+05  347451.000000  355511.000000\n",
       "mean     2454.009921  2.844758e+04    2006.847515       6.446591\n",
       "std      1201.900231  1.518807e+05       6.451848       3.455289\n",
       "min       101.000000  0.000000e+00    1996.000000       1.000000\n",
       "25%      2304.000000  0.000000e+00    2001.000000       3.000000\n",
       "50%      3013.000000  1.000000e+02    2007.000000       6.000000\n",
       "75%      3402.000000  2.597500e+03    2012.000000       9.000000\n",
       "max      4105.000000  4.447374e+06    2020.000000      12.000000"
      ]
     },
     "execution_count": 34,
     "metadata": {},
     "output_type": "execute_result"
    }
   ],
   "source": [
    "pf.describe()"
   ]
  },
  {
   "cell_type": "code",
   "execution_count": 35,
   "metadata": {},
   "outputs": [],
   "source": [
    "pf = pf.dropna()"
   ]
  },
  {
   "cell_type": "code",
   "execution_count": 36,
   "metadata": {},
   "outputs": [
    {
     "data": {
      "text/html": [
       "<div>\n",
       "<style scoped>\n",
       "    .dataframe tbody tr th:only-of-type {\n",
       "        vertical-align: middle;\n",
       "    }\n",
       "\n",
       "    .dataframe tbody tr th {\n",
       "        vertical-align: top;\n",
       "    }\n",
       "\n",
       "    .dataframe thead th {\n",
       "        text-align: right;\n",
       "    }\n",
       "</style>\n",
       "<table border=\"1\" class=\"dataframe\">\n",
       "  <thead>\n",
       "    <tr style=\"text-align: right;\">\n",
       "      <th></th>\n",
       "      <th>Port Name</th>\n",
       "      <th>State</th>\n",
       "      <th>Border</th>\n",
       "      <th>Measure</th>\n",
       "    </tr>\n",
       "  </thead>\n",
       "  <tbody>\n",
       "    <tr>\n",
       "      <th>0</th>\n",
       "      <td>Alcan</td>\n",
       "      <td>AK</td>\n",
       "      <td>US-Canada Border</td>\n",
       "      <td>Personal Vehicle Passengers</td>\n",
       "    </tr>\n",
       "    <tr>\n",
       "      <th>1</th>\n",
       "      <td>Alcan</td>\n",
       "      <td>AK</td>\n",
       "      <td>US-Canada Border</td>\n",
       "      <td>Personal Vehicles</td>\n",
       "    </tr>\n",
       "    <tr>\n",
       "      <th>2</th>\n",
       "      <td>Alcan</td>\n",
       "      <td>AK</td>\n",
       "      <td>US-Canada Border</td>\n",
       "      <td>Truck Containers Empty</td>\n",
       "    </tr>\n",
       "    <tr>\n",
       "      <th>3</th>\n",
       "      <td>Alcan</td>\n",
       "      <td>AK</td>\n",
       "      <td>US-Canada Border</td>\n",
       "      <td>Truck Containers Full</td>\n",
       "    </tr>\n",
       "    <tr>\n",
       "      <th>4</th>\n",
       "      <td>Alcan</td>\n",
       "      <td>AK</td>\n",
       "      <td>US-Canada Border</td>\n",
       "      <td>Trucks</td>\n",
       "    </tr>\n",
       "    <tr>\n",
       "      <th>5</th>\n",
       "      <td>Alexandria Bay</td>\n",
       "      <td>NY</td>\n",
       "      <td>US-Canada Border</td>\n",
       "      <td>Bus Passengers</td>\n",
       "    </tr>\n",
       "    <tr>\n",
       "      <th>6</th>\n",
       "      <td>Alexandria Bay</td>\n",
       "      <td>NY</td>\n",
       "      <td>US-Canada Border</td>\n",
       "      <td>Buses</td>\n",
       "    </tr>\n",
       "    <tr>\n",
       "      <th>7</th>\n",
       "      <td>Alexandria Bay</td>\n",
       "      <td>NY</td>\n",
       "      <td>US-Canada Border</td>\n",
       "      <td>Personal Vehicle Passengers</td>\n",
       "    </tr>\n",
       "    <tr>\n",
       "      <th>8</th>\n",
       "      <td>Alexandria Bay</td>\n",
       "      <td>NY</td>\n",
       "      <td>US-Canada Border</td>\n",
       "      <td>Personal Vehicles</td>\n",
       "    </tr>\n",
       "    <tr>\n",
       "      <th>9</th>\n",
       "      <td>Alexandria Bay</td>\n",
       "      <td>NY</td>\n",
       "      <td>US-Canada Border</td>\n",
       "      <td>Truck Containers Empty</td>\n",
       "    </tr>\n",
       "    <tr>\n",
       "      <th>10</th>\n",
       "      <td>Alexandria Bay</td>\n",
       "      <td>NY</td>\n",
       "      <td>US-Canada Border</td>\n",
       "      <td>Truck Containers Full</td>\n",
       "    </tr>\n",
       "    <tr>\n",
       "      <th>11</th>\n",
       "      <td>Alexandria Bay</td>\n",
       "      <td>NY</td>\n",
       "      <td>US-Canada Border</td>\n",
       "      <td>Trucks</td>\n",
       "    </tr>\n",
       "    <tr>\n",
       "      <th>12</th>\n",
       "      <td>Algonac</td>\n",
       "      <td>MI</td>\n",
       "      <td>US-Canada Border</td>\n",
       "      <td>Personal Vehicle Passengers</td>\n",
       "    </tr>\n",
       "    <tr>\n",
       "      <th>13</th>\n",
       "      <td>Algonac</td>\n",
       "      <td>MI</td>\n",
       "      <td>US-Canada Border</td>\n",
       "      <td>Personal Vehicles</td>\n",
       "    </tr>\n",
       "    <tr>\n",
       "      <th>14</th>\n",
       "      <td>Ambrose</td>\n",
       "      <td>ND</td>\n",
       "      <td>US-Canada Border</td>\n",
       "      <td>Personal Vehicle Passengers</td>\n",
       "    </tr>\n",
       "    <tr>\n",
       "      <th>15</th>\n",
       "      <td>Ambrose</td>\n",
       "      <td>ND</td>\n",
       "      <td>US-Canada Border</td>\n",
       "      <td>Personal Vehicles</td>\n",
       "    </tr>\n",
       "    <tr>\n",
       "      <th>16</th>\n",
       "      <td>Ambrose</td>\n",
       "      <td>ND</td>\n",
       "      <td>US-Canada Border</td>\n",
       "      <td>Truck Containers Empty</td>\n",
       "    </tr>\n",
       "    <tr>\n",
       "      <th>17</th>\n",
       "      <td>Ambrose</td>\n",
       "      <td>ND</td>\n",
       "      <td>US-Canada Border</td>\n",
       "      <td>Trucks</td>\n",
       "    </tr>\n",
       "    <tr>\n",
       "      <th>18</th>\n",
       "      <td>Andrade</td>\n",
       "      <td>CA</td>\n",
       "      <td>US-Mexico Border</td>\n",
       "      <td>Pedestrians</td>\n",
       "    </tr>\n",
       "    <tr>\n",
       "      <th>19</th>\n",
       "      <td>Andrade</td>\n",
       "      <td>CA</td>\n",
       "      <td>US-Mexico Border</td>\n",
       "      <td>Personal Vehicle Passengers</td>\n",
       "    </tr>\n",
       "    <tr>\n",
       "      <th>20</th>\n",
       "      <td>Andrade</td>\n",
       "      <td>CA</td>\n",
       "      <td>US-Mexico Border</td>\n",
       "      <td>Personal Vehicles</td>\n",
       "    </tr>\n",
       "    <tr>\n",
       "      <th>21</th>\n",
       "      <td>Antler</td>\n",
       "      <td>ND</td>\n",
       "      <td>US-Canada Border</td>\n",
       "      <td>Personal Vehicle Passengers</td>\n",
       "    </tr>\n",
       "    <tr>\n",
       "      <th>22</th>\n",
       "      <td>Antler</td>\n",
       "      <td>ND</td>\n",
       "      <td>US-Canada Border</td>\n",
       "      <td>Personal Vehicles</td>\n",
       "    </tr>\n",
       "    <tr>\n",
       "      <th>23</th>\n",
       "      <td>Antler</td>\n",
       "      <td>ND</td>\n",
       "      <td>US-Canada Border</td>\n",
       "      <td>Truck Containers Empty</td>\n",
       "    </tr>\n",
       "    <tr>\n",
       "      <th>24</th>\n",
       "      <td>Antler</td>\n",
       "      <td>ND</td>\n",
       "      <td>US-Canada Border</td>\n",
       "      <td>Trucks</td>\n",
       "    </tr>\n",
       "    <tr>\n",
       "      <th>25</th>\n",
       "      <td>Baudette</td>\n",
       "      <td>MN</td>\n",
       "      <td>US-Canada Border</td>\n",
       "      <td>Bus Passengers</td>\n",
       "    </tr>\n",
       "    <tr>\n",
       "      <th>26</th>\n",
       "      <td>Baudette</td>\n",
       "      <td>MN</td>\n",
       "      <td>US-Canada Border</td>\n",
       "      <td>Buses</td>\n",
       "    </tr>\n",
       "    <tr>\n",
       "      <th>27</th>\n",
       "      <td>Baudette</td>\n",
       "      <td>MN</td>\n",
       "      <td>US-Canada Border</td>\n",
       "      <td>Pedestrians</td>\n",
       "    </tr>\n",
       "    <tr>\n",
       "      <th>28</th>\n",
       "      <td>Baudette</td>\n",
       "      <td>MN</td>\n",
       "      <td>US-Canada Border</td>\n",
       "      <td>Personal Vehicle Passengers</td>\n",
       "    </tr>\n",
       "    <tr>\n",
       "      <th>29</th>\n",
       "      <td>Baudette</td>\n",
       "      <td>MN</td>\n",
       "      <td>US-Canada Border</td>\n",
       "      <td>Personal Vehicles</td>\n",
       "    </tr>\n",
       "    <tr>\n",
       "      <th>...</th>\n",
       "      <td>...</td>\n",
       "      <td>...</td>\n",
       "      <td>...</td>\n",
       "      <td>...</td>\n",
       "    </tr>\n",
       "    <tr>\n",
       "      <th>355481</th>\n",
       "      <td>Buffalo-Niagara Falls</td>\n",
       "      <td>NY</td>\n",
       "      <td>US-Canada Border</td>\n",
       "      <td>Personal Vehicle Passengers</td>\n",
       "    </tr>\n",
       "    <tr>\n",
       "      <th>355482</th>\n",
       "      <td>Massena</td>\n",
       "      <td>NY</td>\n",
       "      <td>US-Canada Border</td>\n",
       "      <td>Train Passengers</td>\n",
       "    </tr>\n",
       "    <tr>\n",
       "      <th>355483</th>\n",
       "      <td>Andrade</td>\n",
       "      <td>CA</td>\n",
       "      <td>US-Mexico Border</td>\n",
       "      <td>Trains</td>\n",
       "    </tr>\n",
       "    <tr>\n",
       "      <th>355484</th>\n",
       "      <td>Hidalgo</td>\n",
       "      <td>TX</td>\n",
       "      <td>US-Mexico Border</td>\n",
       "      <td>Rail Containers Empty</td>\n",
       "    </tr>\n",
       "    <tr>\n",
       "      <th>355485</th>\n",
       "      <td>Douglas</td>\n",
       "      <td>AZ</td>\n",
       "      <td>US-Mexico Border</td>\n",
       "      <td>Trains</td>\n",
       "    </tr>\n",
       "    <tr>\n",
       "      <th>355486</th>\n",
       "      <td>San Ysidro</td>\n",
       "      <td>CA</td>\n",
       "      <td>US-Mexico Border</td>\n",
       "      <td>Rail Containers Full</td>\n",
       "    </tr>\n",
       "    <tr>\n",
       "      <th>355487</th>\n",
       "      <td>Santa Teresa</td>\n",
       "      <td>NM</td>\n",
       "      <td>US-Mexico Border</td>\n",
       "      <td>Personal Vehicles</td>\n",
       "    </tr>\n",
       "    <tr>\n",
       "      <th>355488</th>\n",
       "      <td>Dunseith</td>\n",
       "      <td>ND</td>\n",
       "      <td>US-Canada Border</td>\n",
       "      <td>Trucks</td>\n",
       "    </tr>\n",
       "    <tr>\n",
       "      <th>355489</th>\n",
       "      <td>Sault Sainte Marie</td>\n",
       "      <td>MI</td>\n",
       "      <td>US-Canada Border</td>\n",
       "      <td>Bus Passengers</td>\n",
       "    </tr>\n",
       "    <tr>\n",
       "      <th>355490</th>\n",
       "      <td>Sherwood</td>\n",
       "      <td>ND</td>\n",
       "      <td>US-Canada Border</td>\n",
       "      <td>Truck Containers Empty</td>\n",
       "    </tr>\n",
       "    <tr>\n",
       "      <th>355491</th>\n",
       "      <td>Sherwood</td>\n",
       "      <td>ND</td>\n",
       "      <td>US-Canada Border</td>\n",
       "      <td>Trains</td>\n",
       "    </tr>\n",
       "    <tr>\n",
       "      <th>355492</th>\n",
       "      <td>Hannah</td>\n",
       "      <td>ND</td>\n",
       "      <td>US-Canada Border</td>\n",
       "      <td>Trains</td>\n",
       "    </tr>\n",
       "    <tr>\n",
       "      <th>355493</th>\n",
       "      <td>Boundary</td>\n",
       "      <td>WA</td>\n",
       "      <td>US-Canada Border</td>\n",
       "      <td>Pedestrians</td>\n",
       "    </tr>\n",
       "    <tr>\n",
       "      <th>355494</th>\n",
       "      <td>Presidio</td>\n",
       "      <td>TX</td>\n",
       "      <td>US-Mexico Border</td>\n",
       "      <td>Pedestrians</td>\n",
       "    </tr>\n",
       "    <tr>\n",
       "      <th>355495</th>\n",
       "      <td>Fortuna</td>\n",
       "      <td>ND</td>\n",
       "      <td>US-Canada Border</td>\n",
       "      <td>Bus Passengers</td>\n",
       "    </tr>\n",
       "    <tr>\n",
       "      <th>355496</th>\n",
       "      <td>Grand Portage</td>\n",
       "      <td>MN</td>\n",
       "      <td>US-Canada Border</td>\n",
       "      <td>Truck Containers Full</td>\n",
       "    </tr>\n",
       "    <tr>\n",
       "      <th>355497</th>\n",
       "      <td>St. John</td>\n",
       "      <td>ND</td>\n",
       "      <td>US-Canada Border</td>\n",
       "      <td>Personal Vehicle Passengers</td>\n",
       "    </tr>\n",
       "    <tr>\n",
       "      <th>355498</th>\n",
       "      <td>Portland</td>\n",
       "      <td>ME</td>\n",
       "      <td>US-Canada Border</td>\n",
       "      <td>Trucks</td>\n",
       "    </tr>\n",
       "    <tr>\n",
       "      <th>355499</th>\n",
       "      <td>Fort Kent</td>\n",
       "      <td>ME</td>\n",
       "      <td>US-Canada Border</td>\n",
       "      <td>Trains</td>\n",
       "    </tr>\n",
       "    <tr>\n",
       "      <th>355500</th>\n",
       "      <td>Van Buren</td>\n",
       "      <td>ME</td>\n",
       "      <td>US-Canada Border</td>\n",
       "      <td>Rail Containers Empty</td>\n",
       "    </tr>\n",
       "    <tr>\n",
       "      <th>355501</th>\n",
       "      <td>Ogdensburg</td>\n",
       "      <td>NY</td>\n",
       "      <td>US-Canada Border</td>\n",
       "      <td>Pedestrians</td>\n",
       "    </tr>\n",
       "    <tr>\n",
       "      <th>355502</th>\n",
       "      <td>Ambrose</td>\n",
       "      <td>ND</td>\n",
       "      <td>US-Canada Border</td>\n",
       "      <td>Trains</td>\n",
       "    </tr>\n",
       "    <tr>\n",
       "      <th>355503</th>\n",
       "      <td>Van Buren</td>\n",
       "      <td>ME</td>\n",
       "      <td>US-Canada Border</td>\n",
       "      <td>Personal Vehicles</td>\n",
       "    </tr>\n",
       "    <tr>\n",
       "      <th>355504</th>\n",
       "      <td>Whitetail</td>\n",
       "      <td>MT</td>\n",
       "      <td>US-Canada Border</td>\n",
       "      <td>Truck Containers Empty</td>\n",
       "    </tr>\n",
       "    <tr>\n",
       "      <th>355505</th>\n",
       "      <td>Point Roberts</td>\n",
       "      <td>WA</td>\n",
       "      <td>US-Canada Border</td>\n",
       "      <td>Rail Containers Empty</td>\n",
       "    </tr>\n",
       "    <tr>\n",
       "      <th>355506</th>\n",
       "      <td>Antler</td>\n",
       "      <td>ND</td>\n",
       "      <td>US-Canada Border</td>\n",
       "      <td>Personal Vehicle Passengers</td>\n",
       "    </tr>\n",
       "    <tr>\n",
       "      <th>355507</th>\n",
       "      <td>Tecate</td>\n",
       "      <td>CA</td>\n",
       "      <td>US-Mexico Border</td>\n",
       "      <td>Trucks</td>\n",
       "    </tr>\n",
       "    <tr>\n",
       "      <th>355508</th>\n",
       "      <td>Calais</td>\n",
       "      <td>ME</td>\n",
       "      <td>US-Canada Border</td>\n",
       "      <td>Trucks</td>\n",
       "    </tr>\n",
       "    <tr>\n",
       "      <th>355509</th>\n",
       "      <td>Carbury</td>\n",
       "      <td>ND</td>\n",
       "      <td>US-Canada Border</td>\n",
       "      <td>Truck Containers Empty</td>\n",
       "    </tr>\n",
       "    <tr>\n",
       "      <th>355510</th>\n",
       "      <td>Skagway</td>\n",
       "      <td>AK</td>\n",
       "      <td>US-Canada Border</td>\n",
       "      <td>Buses</td>\n",
       "    </tr>\n",
       "  </tbody>\n",
       "</table>\n",
       "<p>347451 rows × 4 columns</p>\n",
       "</div>"
      ],
      "text/plain": [
       "                    Port Name State            Border  \\\n",
       "0                       Alcan    AK  US-Canada Border   \n",
       "1                       Alcan    AK  US-Canada Border   \n",
       "2                       Alcan    AK  US-Canada Border   \n",
       "3                       Alcan    AK  US-Canada Border   \n",
       "4                       Alcan    AK  US-Canada Border   \n",
       "5              Alexandria Bay    NY  US-Canada Border   \n",
       "6              Alexandria Bay    NY  US-Canada Border   \n",
       "7              Alexandria Bay    NY  US-Canada Border   \n",
       "8              Alexandria Bay    NY  US-Canada Border   \n",
       "9              Alexandria Bay    NY  US-Canada Border   \n",
       "10             Alexandria Bay    NY  US-Canada Border   \n",
       "11             Alexandria Bay    NY  US-Canada Border   \n",
       "12                    Algonac    MI  US-Canada Border   \n",
       "13                    Algonac    MI  US-Canada Border   \n",
       "14                    Ambrose    ND  US-Canada Border   \n",
       "15                    Ambrose    ND  US-Canada Border   \n",
       "16                    Ambrose    ND  US-Canada Border   \n",
       "17                    Ambrose    ND  US-Canada Border   \n",
       "18                    Andrade    CA  US-Mexico Border   \n",
       "19                    Andrade    CA  US-Mexico Border   \n",
       "20                    Andrade    CA  US-Mexico Border   \n",
       "21                     Antler    ND  US-Canada Border   \n",
       "22                     Antler    ND  US-Canada Border   \n",
       "23                     Antler    ND  US-Canada Border   \n",
       "24                     Antler    ND  US-Canada Border   \n",
       "25                   Baudette    MN  US-Canada Border   \n",
       "26                   Baudette    MN  US-Canada Border   \n",
       "27                   Baudette    MN  US-Canada Border   \n",
       "28                   Baudette    MN  US-Canada Border   \n",
       "29                   Baudette    MN  US-Canada Border   \n",
       "...                       ...   ...               ...   \n",
       "355481  Buffalo-Niagara Falls    NY  US-Canada Border   \n",
       "355482                Massena    NY  US-Canada Border   \n",
       "355483                Andrade    CA  US-Mexico Border   \n",
       "355484                Hidalgo    TX  US-Mexico Border   \n",
       "355485                Douglas    AZ  US-Mexico Border   \n",
       "355486             San Ysidro    CA  US-Mexico Border   \n",
       "355487           Santa Teresa    NM  US-Mexico Border   \n",
       "355488               Dunseith    ND  US-Canada Border   \n",
       "355489     Sault Sainte Marie    MI  US-Canada Border   \n",
       "355490               Sherwood    ND  US-Canada Border   \n",
       "355491               Sherwood    ND  US-Canada Border   \n",
       "355492                 Hannah    ND  US-Canada Border   \n",
       "355493               Boundary    WA  US-Canada Border   \n",
       "355494               Presidio    TX  US-Mexico Border   \n",
       "355495                Fortuna    ND  US-Canada Border   \n",
       "355496          Grand Portage    MN  US-Canada Border   \n",
       "355497               St. John    ND  US-Canada Border   \n",
       "355498               Portland    ME  US-Canada Border   \n",
       "355499              Fort Kent    ME  US-Canada Border   \n",
       "355500              Van Buren    ME  US-Canada Border   \n",
       "355501             Ogdensburg    NY  US-Canada Border   \n",
       "355502                Ambrose    ND  US-Canada Border   \n",
       "355503              Van Buren    ME  US-Canada Border   \n",
       "355504              Whitetail    MT  US-Canada Border   \n",
       "355505          Point Roberts    WA  US-Canada Border   \n",
       "355506                 Antler    ND  US-Canada Border   \n",
       "355507                 Tecate    CA  US-Mexico Border   \n",
       "355508                 Calais    ME  US-Canada Border   \n",
       "355509                Carbury    ND  US-Canada Border   \n",
       "355510                Skagway    AK  US-Canada Border   \n",
       "\n",
       "                            Measure  \n",
       "0       Personal Vehicle Passengers  \n",
       "1                 Personal Vehicles  \n",
       "2            Truck Containers Empty  \n",
       "3             Truck Containers Full  \n",
       "4                            Trucks  \n",
       "5                    Bus Passengers  \n",
       "6                             Buses  \n",
       "7       Personal Vehicle Passengers  \n",
       "8                 Personal Vehicles  \n",
       "9            Truck Containers Empty  \n",
       "10            Truck Containers Full  \n",
       "11                           Trucks  \n",
       "12      Personal Vehicle Passengers  \n",
       "13                Personal Vehicles  \n",
       "14      Personal Vehicle Passengers  \n",
       "15                Personal Vehicles  \n",
       "16           Truck Containers Empty  \n",
       "17                           Trucks  \n",
       "18                      Pedestrians  \n",
       "19      Personal Vehicle Passengers  \n",
       "20                Personal Vehicles  \n",
       "21      Personal Vehicle Passengers  \n",
       "22                Personal Vehicles  \n",
       "23           Truck Containers Empty  \n",
       "24                           Trucks  \n",
       "25                   Bus Passengers  \n",
       "26                            Buses  \n",
       "27                      Pedestrians  \n",
       "28      Personal Vehicle Passengers  \n",
       "29                Personal Vehicles  \n",
       "...                             ...  \n",
       "355481  Personal Vehicle Passengers  \n",
       "355482             Train Passengers  \n",
       "355483                       Trains  \n",
       "355484        Rail Containers Empty  \n",
       "355485                       Trains  \n",
       "355486         Rail Containers Full  \n",
       "355487            Personal Vehicles  \n",
       "355488                       Trucks  \n",
       "355489               Bus Passengers  \n",
       "355490       Truck Containers Empty  \n",
       "355491                       Trains  \n",
       "355492                       Trains  \n",
       "355493                  Pedestrians  \n",
       "355494                  Pedestrians  \n",
       "355495               Bus Passengers  \n",
       "355496        Truck Containers Full  \n",
       "355497  Personal Vehicle Passengers  \n",
       "355498                       Trucks  \n",
       "355499                       Trains  \n",
       "355500        Rail Containers Empty  \n",
       "355501                  Pedestrians  \n",
       "355502                       Trains  \n",
       "355503            Personal Vehicles  \n",
       "355504       Truck Containers Empty  \n",
       "355505        Rail Containers Empty  \n",
       "355506  Personal Vehicle Passengers  \n",
       "355507                       Trucks  \n",
       "355508                       Trucks  \n",
       "355509       Truck Containers Empty  \n",
       "355510                        Buses  \n",
       "\n",
       "[347451 rows x 4 columns]"
      ]
     },
     "execution_count": 36,
     "metadata": {},
     "output_type": "execute_result"
    }
   ],
   "source": [
    "pf.select_dtypes(include=['object'])"
   ]
  },
  {
   "cell_type": "markdown",
   "metadata": {},
   "source": [
    "Now, there are some presence of categorical data (data that are bound to some specific values) while others are continuous values and can take any values over their interval. \n",
    "\n",
    "The categorical values resembling real values can be directly fed to the model, but incase of **object** values, it cannot be directly fed to prediction model. So, it is better to replace them with some dummy variables."
   ]
  },
  {
   "cell_type": "code",
   "execution_count": 37,
   "metadata": {},
   "outputs": [],
   "source": [
    "d_border = {'US-Canada Border': 0,'US-Mexico Border': 1}\n",
    "pf['Border'].replace(d_border ,inplace=True)"
   ]
  },
  {
   "cell_type": "code",
   "execution_count": 38,
   "metadata": {},
   "outputs": [],
   "source": [
    "d_state={'AK' : 0, 'ND' : 1, 'ME' : 2, 'CA' : 3, 'WA' : 4, 'MT' : 5, 'NY' : 6, 'OH' : 7, 'ID' : 8, 'NM' : 9, 'MN' : 10, 'VT' :11,\n",
    "         'MI' : 12, 'AZ' :13, 'TX' : 14}\n",
    "pf['State'].replace(d_state ,inplace=True)"
   ]
  },
  {
   "cell_type": "code",
   "execution_count": 39,
   "metadata": {},
   "outputs": [],
   "source": [
    "d_measure={'Trains' : 0, 'Train Passengers' : 1, 'Buses' : 2, 'Rail Containers Empty' : 3, 'Rail Containers Full' : 4,\n",
    "            'Truck Containers Empty' : 5, 'Bus Passengers' : 6, 'Truck Containers Full' : 7, 'Trucks' : 8, 'Pedestrians' : 9,\n",
    "            'Personal Vehicles' : 10, 'Personal Vehicle Passengers' : 11,}\n",
    "pf['Measure'].replace(d_measure ,inplace=True)"
   ]
  },
  {
   "cell_type": "markdown",
   "metadata": {},
   "source": [
    "## Question 5 ##\n",
    "\n",
    "Now, the main question, is there any way to predict the values of Border-Crossing traffic?\n",
    "\n",
    "To find out the answer it is best suited to obsverse the data changes and the correlation between different features"
   ]
  },
  {
   "cell_type": "code",
   "execution_count": 40,
   "metadata": {},
   "outputs": [
    {
     "data": {
      "image/png": "[encoded data removed]",
      "text/plain": [
       "<Figure size 432x288 with 9 Axes>"
      ]
     },
     "metadata": {},
     "output_type": "display_data"
    }
   ],
   "source": [
    "pf.hist();"
   ]
  },
  {
   "cell_type": "markdown",
   "metadata": {},
   "source": [
    "For every port, there exist an unique postal code, So instead of using the Postal name as a feature, the provided Postal code is used. \n",
    "\n",
    "The histogram clearly shows a relation between the different parameters of the datatset with the prediction value"
   ]
  },
  {
   "cell_type": "code",
   "execution_count": 41,
   "metadata": {},
   "outputs": [
    {
     "data": {
      "image/png": "[encoded data removed]",
      "text/plain": [
       "<Figure size 432x288 with 2 Axes>"
      ]
     },
     "metadata": {},
     "output_type": "display_data"
    }
   ],
   "source": [
    "sns.heatmap(pf.corr(), annot=True, fmt=\".2f\");"
   ]
  },
  {
   "cell_type": "markdown",
   "metadata": {},
   "source": [
    "The heatmap suggest a strong correlation with border parameter, measures and state. While a not so much significant but a relation between Postal Code and Value."
   ]
  },
  {
   "cell_type": "code",
   "execution_count": 42,
   "metadata": {},
   "outputs": [
    {
     "name": "stdout",
     "output_type": "stream",
     "text": [
      "<class 'pandas.core.frame.DataFrame'>\n",
      "Int64Index: 347451 entries, 0 to 355510\n",
      "Data columns (total 8 columns):\n",
      "Port Name    347451 non-null object\n",
      "State        347451 non-null int64\n",
      "Port Code    347451 non-null int64\n",
      "Border       347451 non-null int64\n",
      "Measure      347451 non-null int64\n",
      "Value        347451 non-null int64\n",
      "year         347451 non-null float64\n",
      "month        347451 non-null int64\n",
      "dtypes: float64(1), int64(6), object(1)\n",
      "memory usage: 23.9+ MB\n"
     ]
    }
   ],
   "source": [
    "pf.info();"
   ]
  },
  {
   "cell_type": "markdown",
   "metadata": {},
   "source": [
    "## Model Data ##"
   ]
  },
  {
   "cell_type": "markdown",
   "metadata": {},
   "source": [
    "Now the important aspect is to predict the values observing a specific trend.\n",
    "\n",
    "A **Linear Regression** model is used from sklearn package of python to observe the charecteristic and predict the trend. The **R2 score** is used for determining the correctness of the model"
   ]
  },
  {
   "cell_type": "code",
   "execution_count": 43,
   "metadata": {},
   "outputs": [
    {
     "data": {
      "text/plain": [
       "Index(['Port Name', 'State', 'Port Code', 'Border', 'Measure', 'Value', 'year',\n",
       "       'month'],\n",
       "      dtype='object')"
      ]
     },
     "execution_count": 43,
     "metadata": {},
     "output_type": "execute_result"
    }
   ],
   "source": [
    "pf.columns"
   ]
  },
  {
   "cell_type": "markdown",
   "metadata": {},
   "source": [
    "The total training set is divided to train and test modules to avoid overfitting of the data and for a better evaluation. The data is randomly arranged to make the training set more uniformly arranged."
   ]
  },
  {
   "cell_type": "code",
   "execution_count": 44,
   "metadata": {},
   "outputs": [],
   "source": [
    "X = pf[['State', 'Port Code', 'Border', 'Measure', 'year', 'month']]\n",
    "y = pf['Value']\n",
    "X_train, X_test, y_train, y_test = train_test_split(X, y, test_size = 0.3, random_state = 42)"
   ]
  },
  {
   "cell_type": "code",
   "execution_count": 45,
   "metadata": {},
   "outputs": [
    {
     "data": {
      "text/plain": [
       "LinearRegression(copy_X=True, fit_intercept=True, n_jobs=None, normalize=True)"
      ]
     },
     "execution_count": 45,
     "metadata": {},
     "output_type": "execute_result"
    }
   ],
   "source": [
    "lm = LinearRegression(normalize = True)\n",
    "lm.fit(X_train, y_train)"
   ]
  },
  {
   "cell_type": "code",
   "execution_count": 46,
   "metadata": {},
   "outputs": [
    {
     "name": "stdout",
     "output_type": "stream",
     "text": [
      "0.107759889565 0.112200870225\n"
     ]
    }
   ],
   "source": [
    "y_pred_test = lm.predict(X_test)\n",
    "y_pred_train = lm.predict(X_train)\n",
    "Score_test = r2_score(y_test, y_pred_test)\n",
    "Score_train = r2_score(y_train, y_pred_train)\n",
    "print(Score_train, Score_test)"
   ]
  },
  {
   "cell_type": "markdown",
   "metadata": {},
   "source": [
    "The same score in case of Test and Train Set suggest that the model is not overfitted."
   ]
  },
  {
   "cell_type": "markdown",
   "metadata": {},
   "source": [
    "## Results ##"
   ]
  },
  {
   "cell_type": "markdown",
   "metadata": {},
   "source": [
    "The model trained in the previous part is used for future predictions. The input features being the ones that were extracted from the Data Analysing phase (year > 2020)."
   ]
  },
  {
   "cell_type": "code",
   "execution_count": 47,
   "metadata": {},
   "outputs": [
    {
     "data": {
      "text/html": [
       "<div>\n",
       "<style scoped>\n",
       "    .dataframe tbody tr th:only-of-type {\n",
       "        vertical-align: middle;\n",
       "    }\n",
       "\n",
       "    .dataframe tbody tr th {\n",
       "        vertical-align: top;\n",
       "    }\n",
       "\n",
       "    .dataframe thead th {\n",
       "        text-align: right;\n",
       "    }\n",
       "</style>\n",
       "<table border=\"1\" class=\"dataframe\">\n",
       "  <thead>\n",
       "    <tr style=\"text-align: right;\">\n",
       "      <th></th>\n",
       "      <th>Port Name</th>\n",
       "      <th>State</th>\n",
       "      <th>Port Code</th>\n",
       "      <th>Border</th>\n",
       "      <th>Measure</th>\n",
       "      <th>Value</th>\n",
       "      <th>year</th>\n",
       "      <th>month</th>\n",
       "    </tr>\n",
       "  </thead>\n",
       "  <tbody>\n",
       "    <tr>\n",
       "      <th>365</th>\n",
       "      <td>Lukeville</td>\n",
       "      <td>13</td>\n",
       "      <td>2602</td>\n",
       "      <td>1</td>\n",
       "      <td>10</td>\n",
       "      <td>25359</td>\n",
       "      <td>2021</td>\n",
       "      <td>1</td>\n",
       "    </tr>\n",
       "    <tr>\n",
       "      <th>366</th>\n",
       "      <td>Lukeville</td>\n",
       "      <td>13</td>\n",
       "      <td>2602</td>\n",
       "      <td>1</td>\n",
       "      <td>5</td>\n",
       "      <td>2</td>\n",
       "      <td>2021</td>\n",
       "      <td>2</td>\n",
       "    </tr>\n",
       "    <tr>\n",
       "      <th>367</th>\n",
       "      <td>Lukeville</td>\n",
       "      <td>13</td>\n",
       "      <td>2602</td>\n",
       "      <td>1</td>\n",
       "      <td>7</td>\n",
       "      <td>22</td>\n",
       "      <td>2021</td>\n",
       "      <td>3</td>\n",
       "    </tr>\n",
       "    <tr>\n",
       "      <th>368</th>\n",
       "      <td>Lukeville</td>\n",
       "      <td>13</td>\n",
       "      <td>2602</td>\n",
       "      <td>1</td>\n",
       "      <td>8</td>\n",
       "      <td>25</td>\n",
       "      <td>2021</td>\n",
       "      <td>4</td>\n",
       "    </tr>\n",
       "    <tr>\n",
       "      <th>369</th>\n",
       "      <td>Lynden</td>\n",
       "      <td>4</td>\n",
       "      <td>3023</td>\n",
       "      <td>0</td>\n",
       "      <td>9</td>\n",
       "      <td>71</td>\n",
       "      <td>2021</td>\n",
       "      <td>5</td>\n",
       "    </tr>\n",
       "  </tbody>\n",
       "</table>\n",
       "</div>"
      ],
      "text/plain": [
       "     Port Name  State  Port Code  Border  Measure  Value  year  month\n",
       "365  Lukeville     13       2602       1       10  25359  2021      1\n",
       "366  Lukeville     13       2602       1        5      2  2021      2\n",
       "367  Lukeville     13       2602       1        7     22  2021      3\n",
       "368  Lukeville     13       2602       1        8     25  2021      4\n",
       "369     Lynden      4       3023       0        9     71  2021      5"
      ]
     },
     "execution_count": 47,
     "metadata": {},
     "output_type": "execute_result"
    }
   ],
   "source": [
    "model_pf['Border'].replace(d_border ,inplace=True)\n",
    "model_pf['State'].replace(d_state ,inplace=True)\n",
    "model_pf['Measure'].replace(d_measure ,inplace=True)\n",
    "model_pf.head()"
   ]
  },
  {
   "cell_type": "code",
   "execution_count": 48,
   "metadata": {},
   "outputs": [
    {
     "data": {
      "text/plain": [
       "0.13376078937241265"
      ]
     },
     "execution_count": 48,
     "metadata": {},
     "output_type": "execute_result"
    }
   ],
   "source": [
    "X_test_2 = model_pf[['State', 'Port Code', 'Border', 'Measure', 'year', 'month']]\n",
    "y_test_2 = model_pf['Value']\n",
    "y_pred_2 = lm.predict(X_test_2)\n",
    "Score_2 = r2_score(y_test_2, y_pred_2)\n",
    "Score_2"
   ]
  },
  {
   "cell_type": "code",
   "execution_count": 49,
   "metadata": {},
   "outputs": [
    {
     "data": {
      "image/png": "[encoded data removed]",
      "text/plain": [
       "<Figure size 432x288 with 1 Axes>"
      ]
     },
     "metadata": {},
     "output_type": "display_data"
    }
   ],
   "source": [
    "d={}\n",
    "count=0\n",
    "for y in X_test_2['year']:\n",
    "    try:\n",
    "        d[y]+= y_pred_2[count]\n",
    "    except KeyError:\n",
    "        d[y] = y_pred_2[count]\n",
    "    count+=1\n",
    "lists = sorted(d.items()) # sorted by key, return a list of tuples\n",
    "\n",
    "x, y = zip(*lists) # unpack a list of pairs into two tuples\n",
    "\n",
    "plt.bar(x, y)\n",
    "plt.show()"
   ]
  },
  {
   "cell_type": "code",
   "execution_count": 50,
   "metadata": {},
   "outputs": [
    {
     "data": {
      "text/plain": [
       "Text(0.5, 1.0, 'As Predicted in Dataset')"
      ]
     },
     "execution_count": 50,
     "metadata": {},
     "output_type": "execute_result"
    },
    {
     "data": {
      "image/png": "[encoded data removed]",
      "text/plain": [
       "<Figure size 432x288 with 1 Axes>"
      ]
     },
     "metadata": {},
     "output_type": "display_data"
    }
   ],
   "source": [
    "model_pf.groupby('year').sum()['Value'].plot(kind = 'bar');\n",
    "plt.title(\"As Predicted in Dataset\")"
   ]
  },
  {
   "cell_type": "markdown",
   "metadata": {},
   "source": [
    "The Predicted values are approximately similar and shows same behaviours. "
   ]
  },
  {
   "cell_type": "markdown",
   "metadata": {},
   "source": [
    "The fluctuations in the middle are a result of the 2020 dataset that is affected by the **COVID-19** pandemic."
   ]
  },
  {
   "cell_type": "markdown",
   "metadata": {},
   "source": [
    "## Deployment ##"
   ]
  },
  {
   "cell_type": "markdown",
   "metadata": {},
   "source": [
    "The Jupyter Notebook is available in Github:- https://github.com/deadshotsb/US-Border-Crossing-Analysis\n",
    "\n",
    "For furthur Explanation please visite the blog in medium:- https://medium.com/p/420fc0abb1c3/edit\n",
    "\n",
    "Thank you for your time and support."
   ]
  }
 ],
 "metadata": {
  "kernelspec": {
   "display_name": "Python 3",
   "language": "python",
   "name": "python3"
  },
  "language_info": {
   "codemirror_mode": {
    "name": "ipython",
    "version": 3
   },
   "file_extension": ".py",
   "mimetype": "text/x-python",
   "name": "python",
   "nbconvert_exporter": "python",
   "pygments_lexer": "ipython3",
   "version": "3.6.8"
  }
 },
 "nbformat": 4,
 "nbformat_minor": 2
}
